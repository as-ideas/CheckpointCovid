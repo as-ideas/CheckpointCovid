{
 "cells": [
  {
   "cell_type": "markdown",
   "metadata": {},
   "source": [
    "## Simulation of usage\n",
    "\n",
    "At each time stamp (when the app is running) users send their current location (x,y) to the server.<br>\n",
    "The server maps these location to a tile on the map (ideally only streets).<br>\n",
    "The server discards the location information when new is avaible, so it does NOT store any location history.\n",
    "\n",
    "The server checks if multiple users are in the same tile (gropuby tile, count users) and builds a list of tiles containing multiple users:<br>\n",
    "```\n",
    " [int: tile_n, list: user_ids]\n",
    " e.g.\n",
    " [[tile1, [user1, user2, user8]], \n",
    "  [tile18, [user3, user42],\n",
    "  ...\n",
    " ]\n",
    "``` \n",
    "\n",
    "The server then sends the list of user_ids to the users involved.<br>\n",
    "\n",
    "\n",
    "The users, on their local device, build a list of \"encounters\" (contacts) as\n",
    "```[(user1, time1), (user2, time1), (user14, time5), ...]```\n",
    "\n",
    "When positive, the users send a message to the server, which maintains a list of positives with timestamps.\n",
    "\n",
    "When the users update their contact history, they locally scan their contact history to find any (time-stamped) overlap with the list of positives received by the server. If there is a match they will send a positive signal to the server, which adds the user to the list of positives.\n",
    "\n",
    "When the infected list is updated on the server, the server sends a request to all the users to check for matches in their contacts history."
   ]
  },
  {
   "cell_type": "code",
   "execution_count": 1,
   "metadata": {},
   "outputs": [],
   "source": [
    "import numpy as np\n",
    "from source import Map, User, Server\n",
    "from plotter import Plotter\n",
    "\n",
    "np.random.seed(42)"
   ]
  },
  {
   "cell_type": "code",
   "execution_count": 2,
   "metadata": {},
   "outputs": [],
   "source": [
    "n_users = 30\n",
    "grid_size = 10\n",
    "unlucky_user = 13\n",
    "SAMPLE_USER = 1\n",
    "\n",
    "# initial user positions\n",
    "pos=np.random.uniform(0,1,(n_users, 2))\n",
    "world_map = Map(grid_size)\n",
    "plotter = Plotter(world_map)\n",
    "server = Server(n_users, initial_pos=pos, world_map=world_map)"
   ]
  },
  {
   "cell_type": "markdown",
   "metadata": {},
   "source": [
    "Location information store on server side"
   ]
  },
  {
   "cell_type": "code",
   "execution_count": 3,
   "metadata": {},
   "outputs": [
    {
     "data": {
      "text/html": [
       "<div>\n",
       "<style scoped>\n",
       "    .dataframe tbody tr th:only-of-type {\n",
       "        vertical-align: middle;\n",
       "    }\n",
       "\n",
       "    .dataframe tbody tr th {\n",
       "        vertical-align: top;\n",
       "    }\n",
       "\n",
       "    .dataframe thead th {\n",
       "        text-align: right;\n",
       "    }\n",
       "</style>\n",
       "<table border=\"1\" class=\"dataframe\">\n",
       "  <thead>\n",
       "    <tr style=\"text-align: right;\">\n",
       "      <th></th>\n",
       "      <th>x</th>\n",
       "      <th>y</th>\n",
       "      <th>count</th>\n",
       "      <th>user_id</th>\n",
       "      <th>tile</th>\n",
       "    </tr>\n",
       "  </thead>\n",
       "  <tbody>\n",
       "    <tr>\n",
       "      <th>0</th>\n",
       "      <td>0.374540</td>\n",
       "      <td>0.950714</td>\n",
       "      <td>1</td>\n",
       "      <td>0</td>\n",
       "      <td>38</td>\n",
       "    </tr>\n",
       "    <tr>\n",
       "      <th>1</th>\n",
       "      <td>0.731994</td>\n",
       "      <td>0.598658</td>\n",
       "      <td>1</td>\n",
       "      <td>1</td>\n",
       "      <td>65</td>\n",
       "    </tr>\n",
       "    <tr>\n",
       "      <th>2</th>\n",
       "      <td>0.156019</td>\n",
       "      <td>0.155995</td>\n",
       "      <td>1</td>\n",
       "      <td>2</td>\n",
       "      <td>11</td>\n",
       "    </tr>\n",
       "    <tr>\n",
       "      <th>3</th>\n",
       "      <td>0.058084</td>\n",
       "      <td>0.866176</td>\n",
       "      <td>1</td>\n",
       "      <td>3</td>\n",
       "      <td>7</td>\n",
       "    </tr>\n",
       "    <tr>\n",
       "      <th>4</th>\n",
       "      <td>0.601115</td>\n",
       "      <td>0.708073</td>\n",
       "      <td>1</td>\n",
       "      <td>4</td>\n",
       "      <td>56</td>\n",
       "    </tr>\n",
       "  </tbody>\n",
       "</table>\n",
       "</div>"
      ],
      "text/plain": [
       "          x         y  count  user_id  tile\n",
       "0  0.374540  0.950714      1        0    38\n",
       "1  0.731994  0.598658      1        1    65\n",
       "2  0.156019  0.155995      1        2    11\n",
       "3  0.058084  0.866176      1        3     7\n",
       "4  0.601115  0.708073      1        4    56"
      ]
     },
     "execution_count": 3,
     "metadata": {},
     "output_type": "execute_result"
    }
   ],
   "source": [
    "server.data.head()"
   ]
  },
  {
   "cell_type": "code",
   "execution_count": 4,
   "metadata": {},
   "outputs": [
    {
     "name": "stdout",
     "output_type": "stream",
     "text": [
      "user 13 has been infected at time 1.\n"
     ]
    }
   ],
   "source": [
    "# infect unlucky user\n",
    "_ = server.add_infections(unlucky_user, t=1)"
   ]
  },
  {
   "cell_type": "code",
   "execution_count": 5,
   "metadata": {},
   "outputs": [
    {
     "data": {
      "text/plain": [
       "{13: 1}"
      ]
     },
     "execution_count": 5,
     "metadata": {},
     "output_type": "execute_result"
    }
   ],
   "source": [
    "server.infected_users"
   ]
  },
  {
   "cell_type": "code",
   "execution_count": 6,
   "metadata": {
    "scrolled": false
   },
   "outputs": [
    {
     "data": {
      "image/png": "[encoded data removed]",
      "text/plain": [
       "<Figure size 432x288 with 1 Axes>"
      ]
     },
     "metadata": {
      "needs_background": "light"
     },
     "output_type": "display_data"
    },
    {
     "name": "stdout",
     "output_type": "stream",
     "text": [
      "user 16 has been infected at time 1.\n",
      "\n",
      "Information on Server side:\n",
      ".   Infected users: {13: 1, 16: 1}\n",
      ".   Collisions\n"
     ]
    },
    {
     "data": {
      "text/plain": [
       "tile\n",
       "20    [11, 24]\n",
       "24     [2, 21]\n",
       "65    [13, 16]\n",
       "Name: user_id, dtype: object"
      ]
     },
     "metadata": {},
     "output_type": "display_data"
    },
    {
     "name": "stdout",
     "output_type": "stream",
     "text": [
      "\n",
      "Information on User side (user_13)\n",
      ".   Contact history\n",
      ".    {16: [1]}\n",
      "Information on User side (user_1)\n",
      ".   Contact history\n",
      ".    {}\n",
      "\n"
     ]
    },
    {
     "data": {
      "image/png": "[encoded data removed]",
      "text/plain": [
       "<Figure size 432x288 with 1 Axes>"
      ]
     },
     "metadata": {
      "needs_background": "light"
     },
     "output_type": "display_data"
    },
    {
     "name": "stdout",
     "output_type": "stream",
     "text": [
      "user 21 has been infected at time 2.\n",
      "\n",
      "Information on Server side:\n",
      ".   Infected users: {13: 1, 16: 1, 21: 2}\n",
      ".   Collisions\n"
     ]
    },
    {
     "data": {
      "text/plain": [
       "tile\n",
       "20            [1, 12]\n",
       "42           [11, 26]\n",
       "54           [13, 21]\n",
       "82    [7, 10, 15, 17]\n",
       "Name: user_id, dtype: object"
      ]
     },
     "metadata": {},
     "output_type": "display_data"
    },
    {
     "name": "stdout",
     "output_type": "stream",
     "text": [
      "\n",
      "Information on User side (user_13)\n",
      ".   Contact history\n",
      ".    {16: [1], 21: [2]}\n",
      "Information on User side (user_1)\n",
      ".   Contact history\n",
      ".    {12: [2]}\n",
      "\n"
     ]
    },
    {
     "data": {
      "image/png": "[encoded data removed]",
      "text/plain": [
       "<Figure size 432x288 with 1 Axes>"
      ]
     },
     "metadata": {
      "needs_background": "light"
     },
     "output_type": "display_data"
    },
    {
     "name": "stdout",
     "output_type": "stream",
     "text": [
      "\n",
      "Information on Server side:\n",
      ".   Infected users: {13: 1, 16: 1, 21: 2}\n",
      ".   Collisions\n"
     ]
    },
    {
     "data": {
      "text/plain": [
       "tile\n",
       "50    [10, 12]\n",
       "74     [3, 25]\n",
       "85     [6, 24]\n",
       "Name: user_id, dtype: object"
      ]
     },
     "metadata": {},
     "output_type": "display_data"
    },
    {
     "name": "stdout",
     "output_type": "stream",
     "text": [
      "\n",
      "Information on User side (user_13)\n",
      ".   Contact history\n",
      ".    {16: [1], 21: [2]}\n",
      "Information on User side (user_1)\n",
      ".   Contact history\n",
      ".    {12: [2]}\n",
      "\n"
     ]
    },
    {
     "data": {
      "image/png": "[encoded data removed]",
      "text/plain": [
       "<Figure size 432x288 with 1 Axes>"
      ]
     },
     "metadata": {
      "needs_background": "light"
     },
     "output_type": "display_data"
    },
    {
     "name": "stdout",
     "output_type": "stream",
     "text": [
      "\n",
      "Information on Server side:\n",
      ".   Infected users: {13: 1, 16: 1, 21: 2}\n",
      ".   Collisions\n"
     ]
    },
    {
     "data": {
      "text/plain": [
       "tile\n",
       "14       [11, 27]\n",
       "44       [17, 23]\n",
       "50    [9, 22, 29]\n",
       "83        [1, 20]\n",
       "Name: user_id, dtype: object"
      ]
     },
     "metadata": {},
     "output_type": "display_data"
    },
    {
     "name": "stdout",
     "output_type": "stream",
     "text": [
      "\n",
      "Information on User side (user_13)\n",
      ".   Contact history\n",
      ".    {16: [1], 21: [2]}\n",
      "Information on User side (user_1)\n",
      ".   Contact history\n",
      ".    {12: [2], 20: [4]}\n",
      "\n"
     ]
    },
    {
     "data": {
      "image/png": "[encoded data removed]",
      "text/plain": [
       "<Figure size 432x288 with 1 Axes>"
      ]
     },
     "metadata": {
      "needs_background": "light"
     },
     "output_type": "display_data"
    },
    {
     "name": "stdout",
     "output_type": "stream",
     "text": [
      "user 1 has been infected at time 5.\n",
      "\n",
      "Information on Server side:\n",
      ".   Infected users: {13: 1, 16: 1, 21: 2, 1: 5}\n",
      ".   Collisions\n"
     ]
    },
    {
     "data": {
      "text/plain": [
       "tile\n",
       "5     [27, 28]\n",
       "35    [22, 24]\n",
       "45     [1, 13]\n",
       "76     [7, 18]\n",
       "Name: user_id, dtype: object"
      ]
     },
     "metadata": {},
     "output_type": "display_data"
    },
    {
     "name": "stdout",
     "output_type": "stream",
     "text": [
      "\n",
      "Information on User side (user_13)\n",
      ".   Contact history\n",
      ".    {16: [1], 21: [2], 1: [5]}\n",
      "Information on User side (user_1)\n",
      ".   Contact history\n",
      ".    {12: [2], 20: [4], 13: [5]}\n",
      "\n"
     ]
    },
    {
     "data": {
      "image/png": "[encoded data removed]",
      "text/plain": [
       "<Figure size 432x288 with 1 Axes>"
      ]
     },
     "metadata": {
      "needs_background": "light"
     },
     "output_type": "display_data"
    },
    {
     "name": "stdout",
     "output_type": "stream",
     "text": [
      "\n",
      "Information on Server side:\n",
      ".   Infected users: {13: 1, 16: 1, 21: 2, 1: 5}\n",
      ".   Collisions\n"
     ]
    },
    {
     "data": {
      "text/plain": [
       "tile\n",
       "28    [22, 25]\n",
       "66    [19, 29]\n",
       "67    [12, 14]\n",
       "83     [2, 15]\n",
       "Name: user_id, dtype: object"
      ]
     },
     "metadata": {},
     "output_type": "display_data"
    },
    {
     "name": "stdout",
     "output_type": "stream",
     "text": [
      "\n",
      "Information on User side (user_13)\n",
      ".   Contact history\n",
      ".    {16: [1], 21: [2], 1: [5]}\n",
      "Information on User side (user_1)\n",
      ".   Contact history\n",
      ".    {12: [2], 20: [4], 13: [5]}\n",
      "\n"
     ]
    },
    {
     "data": {
      "image/png": "[encoded data removed]",
      "text/plain": [
       "<Figure size 432x288 with 1 Axes>"
      ]
     },
     "metadata": {
      "needs_background": "light"
     },
     "output_type": "display_data"
    },
    {
     "name": "stdout",
     "output_type": "stream",
     "text": [
      "user 2 has been infected at time 7.\n",
      "user 18 has been infected at time 7.\n",
      "user 28 has been infected at time 7.\n",
      "user 15 has been infected at time 7.\n",
      "\n",
      "Information on Server side:\n",
      ".   Infected users: {13: 1, 16: 1, 21: 2, 1: 5, 2: 7, 18: 7, 28: 7, 15: 7}\n",
      ".   Collisions\n"
     ]
    },
    {
     "data": {
      "text/plain": [
       "tile\n",
       "4     [1, 2, 18, 28]\n",
       "8       [10, 25, 26]\n",
       "65          [15, 21]\n",
       "Name: user_id, dtype: object"
      ]
     },
     "metadata": {},
     "output_type": "display_data"
    },
    {
     "name": "stdout",
     "output_type": "stream",
     "text": [
      "\n",
      "Information on User side (user_13)\n",
      ".   Contact history\n",
      ".    {16: [1], 21: [2], 1: [5]}\n",
      "Information on User side (user_1)\n",
      ".   Contact history\n",
      ".    {12: [2], 20: [4], 13: [5], 2: [7], 18: [7], 28: [7]}\n",
      "\n"
     ]
    },
    {
     "data": {
      "image/png": "[encoded data removed]",
      "text/plain": [
       "<Figure size 432x288 with 1 Axes>"
      ]
     },
     "metadata": {
      "needs_background": "light"
     },
     "output_type": "display_data"
    },
    {
     "name": "stdout",
     "output_type": "stream",
     "text": [
      "user 5 has been infected at time 8.\n",
      "user 20 has been infected at time 8.\n",
      "\n",
      "Information on Server side:\n",
      ".   Infected users: {13: 1, 16: 1, 21: 2, 1: 5, 2: 7, 18: 7, 28: 7, 15: 7, 5: 8, 20: 8}\n",
      ".   Collisions\n"
     ]
    },
    {
     "data": {
      "text/plain": [
       "tile\n",
       "45          [1, 5]\n",
       "53        [15, 20]\n",
       "87    [13, 16, 21]\n",
       "88          [4, 9]\n",
       "Name: user_id, dtype: object"
      ]
     },
     "metadata": {},
     "output_type": "display_data"
    },
    {
     "name": "stdout",
     "output_type": "stream",
     "text": [
      "\n",
      "Information on User side (user_13)\n",
      ".   Contact history\n",
      ".    {16: [1, 8], 21: [2, 8], 1: [5]}\n",
      "Information on User side (user_1)\n",
      ".   Contact history\n",
      ".    {12: [2], 20: [4], 13: [5], 2: [7], 18: [7], 28: [7], 5: [8]}\n",
      "\n"
     ]
    },
    {
     "data": {
      "image/png": "[encoded data removed]",
      "text/plain": [
       "<Figure size 432x288 with 1 Axes>"
      ]
     },
     "metadata": {
      "needs_background": "light"
     },
     "output_type": "display_data"
    },
    {
     "name": "stdout",
     "output_type": "stream",
     "text": [
      "user 12 has been infected at time 9.\n",
      "user 19 has been infected at time 9.\n",
      "user 10 has been infected at time 9.\n",
      "\n",
      "Information on Server side:\n",
      ".   Infected users: {13: 1, 16: 1, 21: 2, 1: 5, 2: 7, 18: 7, 28: 7, 15: 7, 5: 8, 20: 8, 12: 9, 19: 9, 10: 9}\n",
      ".   Collisions\n"
     ]
    },
    {
     "data": {
      "text/plain": [
       "tile\n",
       "10    [8, 11, 29]\n",
       "35       [12, 16]\n",
       "42       [19, 21]\n",
       "47        [5, 15]\n",
       "61       [10, 28]\n",
       "Name: user_id, dtype: object"
      ]
     },
     "metadata": {},
     "output_type": "display_data"
    },
    {
     "name": "stdout",
     "output_type": "stream",
     "text": [
      "\n",
      "Information on User side (user_13)\n",
      ".   Contact history\n",
      ".    {16: [1, 8], 21: [2, 8], 1: [5]}\n",
      "Information on User side (user_1)\n",
      ".   Contact history\n",
      ".    {12: [2], 20: [4], 13: [5], 2: [7], 18: [7], 28: [7], 5: [8]}\n",
      "\n"
     ]
    }
   ],
   "source": [
    "for time_step in range(1,10):\n",
    "    new_pos = np.random.uniform(0,1,(n_users, 2))\n",
    "    server.update_pos(new_pos)\n",
    "    collisions = server.find_collisions()\n",
    "    plotter.plot_with_patches(collisions, server, sample_user_id=SAMPLE_USER)\n",
    "    new_infections = server.check_infection_groups(collisions, time_step=time_step)\n",
    "    print()\n",
    "    print('Information on Server side:')\n",
    "    print('.   Infected users:',server.infected_users)\n",
    "    print('.   Collisions')\n",
    "    display(collisions)\n",
    "    print()\n",
    "    print(f'Information on User side (user_{unlucky_user})')\n",
    "    print(f'.   Contact history')\n",
    "    print(f'.   ', server.users[unlucky_user].contacts)\n",
    "    print(f'Information on User side (user_{SAMPLE_USER})')\n",
    "    print(f'.   Contact history')\n",
    "    print(f'.   ', server.users[SAMPLE_USER].contacts)\n",
    "    print()"
   ]
  }
 ],
 "metadata": {
  "kernelspec": {
   "display_name": "ttsTF",
   "language": "python",
   "name": "ttstf"
  },
  "language_info": {
   "codemirror_mode": {
    "name": "ipython",
    "version": 3
   },
   "file_extension": ".py",
   "mimetype": "text/x-python",
   "name": "python",
   "nbconvert_exporter": "python",
   "pygments_lexer": "ipython3",
   "version": "3.6.9"
  }
 },
 "nbformat": 4,
 "nbformat_minor": 2
}
